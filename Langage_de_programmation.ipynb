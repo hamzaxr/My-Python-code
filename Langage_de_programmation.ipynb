{
  "nbformat": 4,
  "nbformat_minor": 0,
  "metadata": {
    "colab": {
      "provenance": [],
      "authorship_tag": "ABX9TyOQlnUeY7aVtHaPA9UVgTJI",
      "include_colab_link": true
    },
    "kernelspec": {
      "name": "python3",
      "display_name": "Python 3"
    },
    "language_info": {
      "name": "python"
    }
  },
  "cells": [
    {
      "cell_type": "markdown",
      "metadata": {
        "id": "view-in-github",
        "colab_type": "text"
      },
      "source": [
        "<a href=\"https://colab.research.google.com/github/hamzaxr/My-Python-code/blob/main/Langage_de_programmation.ipynb\" target=\"_parent\"><img src=\"https://colab.research.google.com/assets/colab-badge.svg\" alt=\"Open In Colab\"/></a>"
      ]
    },
    {
      "cell_type": "markdown",
      "source": [
        "*# Ecrire une fonction qui renvoie la puissance d’un nombre Xn:*"
      ],
      "metadata": {
        "id": "uRG_pTenEJu8"
      }
    },
    {
      "cell_type": "code",
      "source": [
        "def puissance(x,n) :\n",
        "    P=pow(x,n)\n",
        "    return P\n",
        "x= int(input(\"Saisir un Nombre :\"))\n",
        "n= int(input(\"Saisir la puissance :\"))\n",
        "print(\"la puissance d’un nombre :\",puissance(x,n))"
      ],
      "metadata": {
        "colab": {
          "base_uri": "https://localhost:8080/"
        },
        "id": "cmLYKokuEZOx",
        "outputId": "a70da5a3-17c6-40fe-dc76-201aa2638a8e"
      },
      "execution_count": 1,
      "outputs": [
        {
          "output_type": "stream",
          "name": "stdout",
          "text": [
            "Saisir un Nombre :5\n",
            "Saisir un Nombre :2\n",
            "la puissance d’un nombre : 25\n"
          ]
        }
      ]
    },
    {
      "cell_type": "markdown",
      "source": [
        "# Ecrire une fonction python qui calcul la factorielle d’un nombre donné n!:\n",
        "\n",
        "\n"
      ],
      "metadata": {
        "id": "Nx2LyXKlEjNf"
      }
    },
    {
      "cell_type": "code",
      "source": [
        "def fact(nbr) :\n",
        "    if nbr==0:\n",
        "       return 1\n",
        "    else :\n",
        "       return nbr*fact(nbr-1)\n",
        "print(fact(5))"
      ],
      "metadata": {
        "id": "MYXw11GWFR4V"
      },
      "execution_count": null,
      "outputs": []
    },
    {
      "cell_type": "markdown",
      "source": [
        "Ecrire une fonction en Python pour trouver la somme des séries 1! / 1 + 2! / 2 + 3! / 3 +\n",
        "4! / 4 + 5! / 5 en utilisant la fonction:\n"
      ],
      "metadata": {
        "id": "Au3uHKGXFUkt"
      }
    },
    {
      "cell_type": "code",
      "source": [
        "def SommedesSeries(num):\n",
        "   res = 0\n",
        "   fact = 1\n",
        "   for i in range(1, 6):\n",
        "      fact *= i\n",
        "      res = res + (fact/ i)\n",
        "   return res\n",
        "n = 100\n",
        "print(\"Somme: \", SommedesSeries(n))"
      ],
      "metadata": {
        "id": "Yd15ofB2FoKl"
      },
      "execution_count": null,
      "outputs": []
    },
    {
      "cell_type": "markdown",
      "source": [
        "Ecrire une fonction en Python pour convertir le nombre décimal en nombre binaire."
      ],
      "metadata": {
        "id": "DJlaVIBBFrZn"
      }
    },
    {
      "cell_type": "code",
      "source": [
        "def conversion(n):\n",
        "    if n > 1:\n",
        "        conversion(n // 2)\n",
        "    print(n % 2, end='')\n",
        "# Demande à l'utilisateur d'entrer un nombre\n",
        "nb = int(input(\"Entrez un nombre decimal: \"))\n",
        "conversion(nb)"
      ],
      "metadata": {
        "id": "sW52V3D5FwpU"
      },
      "execution_count": null,
      "outputs": []
    },
    {
      "cell_type": "markdown",
      "source": [
        "Ecrire une fonction en Python pour calculer la somme des nombres de 1 à n:"
      ],
      "metadata": {
        "id": "1WDefnDfF6Su"
      }
    },
    {
      "cell_type": "code",
      "source": [
        "def sum(n):\n",
        "    s=0\n",
        "    for i in range(0,n+1) :\n",
        "        s=s+i\n",
        "    return s\n",
        "n=int(input(\"Tapez la valeur : \"))\n",
        "print(\"La somme 1+2+....+n :\",sum(n))\n",
        "     \n"
      ],
      "metadata": {
        "id": "4jGjooAoGDVs"
      },
      "execution_count": null,
      "outputs": []
    },
    {
      "cell_type": "markdown",
      "source": [
        "Ecrire une fonction en Python pour compter les chiffres d'un nombre donné:"
      ],
      "metadata": {
        "id": "lylVDatIGKxE"
      }
    },
    {
      "cell_type": "code",
      "source": [
        "def compte(N) :\n",
        "   nb=0\n",
        "   while N!=0 :\n",
        "        N= int(N/10)\n",
        "        nb+=1\n",
        "   return nb\n",
        "N= int(input(\"Saisir un Nombre :\"))\n",
        "print(\"Nombre Totale de chiffre dans le nombre :\", N, \"est \", compte(N))"
      ],
      "metadata": {
        "id": "ao-N3pb9GNar"
      },
      "execution_count": null,
      "outputs": []
    },
    {
      "cell_type": "markdown",
      "source": [
        "Ecrire une fonction Python pour trouver la fréquence d’un caractère dans une chaîne:"
      ],
      "metadata": {
        "id": "3Nzw-DuTGQty"
      }
    },
    {
      "cell_type": "code",
      "source": [
        "def freq(chaine,c):\n",
        "    i=0\n",
        "    for x in chaine:\n",
        "        if x==c:\n",
        "            i=i+1\n",
        "    return i\n",
        "x = \"bonjour tout le monde ttr\" \n",
        "print(freq(x,'t'))"
      ],
      "metadata": {
        "id": "Xs_md6rIGSRm"
      },
      "execution_count": null,
      "outputs": []
    },
    {
      "cell_type": "markdown",
      "source": [
        "Ecrire une fonction qui cherche un élément dans une matrice puis renvoi sa position «i,j»."
      ],
      "metadata": {
        "id": "qTVl1MO7GUWT"
      }
    },
    {
      "cell_type": "code",
      "source": [
        "matrice = [[23, 43, 33,  9, 41],\n",
        "[67, 32, 67, 27, 85],\n",
        "[38, 79, 52, 40, 58],\n",
        "[84, 76, 44,  9,  2]]\n",
        "\n",
        "def find(matrice,value):\n",
        "    for i,v in enumerate(matrice):\n",
        "        if value in v:\n",
        "            return {'ligne':i+1,'colonne':v.index(value)+1}\n",
        "    return {'ligne':-1,'colonne':-1}\n",
        "print(find(matrice,79))"
      ],
      "metadata": {
        "id": "x7lyog3PGXjM"
      },
      "execution_count": null,
      "outputs": []
    },
    {
      "cell_type": "markdown",
      "source": [
        "Ecrire un programme python composé de plusieurs fonctions :"
      ],
      "metadata": {
        "id": "BYBOfO7MIEIc"
      }
    },
    {
      "cell_type": "code",
      "source": [
        "Liste=[3,3,4,5,7,8,3]\n",
        "\n",
        "def moyenne(liste):\n",
        "    return (1/len(liste)) * sum(liste)\n",
        "print(\"Moyenne :\",round(moyenne(Liste),2))\n",
        "print(\"pour le Max ,tapez 1 :\")\n",
        "print(\"pour le Min ,tapez 2 :\")\n",
        "choix=int(input(\" saissire votre choix : \"))\n",
        "def min_list(liste):\n",
        "    minimum = liste[0]\n",
        "    for i in range(1, len(liste)):\n",
        "        if minimum > liste[i]:\n",
        "            minimum = liste[i]\n",
        "    return minimum\n",
        "\n",
        "def max_list(liste):\n",
        "    maximum = liste[0]\n",
        "    for i in range(1, len(liste)):\n",
        "        if maximum < liste[i]:\n",
        "            maximum = liste[i]\n",
        "    return maximum\n",
        "if choix== 2:\n",
        "    print(\"le minimum de votre liste est : \",min_list(Liste))\n",
        "elif choix==1:\n",
        "    print(\"le maximum de votre liste est :\",max_list(Liste))\n",
        "def median(liste):\n",
        "       liste.sort()\n",
        "       if len(liste)%2 !=0:\n",
        "            median=liste[int(len(liste)/2)]\n",
        "       else:\n",
        "            median= liste[(int(len(liste)/2))-1]+  liste[int(len(liste)/2)]\n",
        "            median = median/2\n",
        "       return median \n",
        "def mode(liste):\n",
        "    counter=0\n",
        "    num=liste[0]\n",
        "    for i in (liste):\n",
        "        curr_frequence=liste.count(i)\n",
        "        if(curr_frequence>counter):\n",
        "            counter=curr_frequence\n",
        "            num=i\n",
        "            if len(set(liste))==len(liste):\n",
        "                return 'no mode'\n",
        "            return num\n",
        "\n",
        "\n",
        "def variance(liste):\n",
        "    moy = moyenne(liste)\n",
        "    var = 0\n",
        "\n",
        "    for nb in liste:\n",
        "        var += (nb - moy)**2\n",
        "    return var / len(liste)\n",
        "print(\"Max :\",max_list(Liste))\n",
        "print(\"Min :\",min_list(Liste))\n",
        "print(\"Median :\",median(Liste))\n",
        "print(\"Mode :\",mode(Liste))\n",
        "print(\"Variance :\",round(variance(Liste),2))"
      ],
      "metadata": {
        "id": "xUPTzcJ9IFIj"
      },
      "execution_count": null,
      "outputs": []
    }
  ]
}